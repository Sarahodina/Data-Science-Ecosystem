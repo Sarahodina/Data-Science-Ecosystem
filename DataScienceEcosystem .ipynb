{
 "cells": [
  {
   "cell_type": "markdown",
   "id": "2cbcaa1c-8302-4729-bd7a-639d7278b26d",
   "metadata": {},
   "source": [
    "<h1> Data Science Tools And Ecosystem </h1>"
   ]
  },
  {
   "cell_type": "markdown",
   "id": "70f85bbb-d01c-4751-9f73-576361ec9de4",
   "metadata": {},
   "source": [
    "## In this notebook, Data Science Tools and Ecosystem are summarized."
   ]
  },
  {
   "cell_type": "markdown",
   "id": "796160a5-b627-46e2-b042-7fe24b8f87e0",
   "metadata": {},
   "source": [
    "## Some of the most popular languages that Data Scientists use are: \n",
    "    1. Python\n",
    "    2. R\n",
    "    3.SQL\n",
    "    4.JavaScript\n",
    "    \n",
    "    "
   ]
  },
  {
   "cell_type": "markdown",
   "id": "393e0142-2bba-4086-8165-31e5d608ae32",
   "metadata": {},
   "source": [
    "## Objectives\n",
    "Data Science tools are used to create, extract and aanalyze data both structured and unstructured.\n",
    "Some of the popular languages that Data Scientists use are: Python, R, JavaScript, SQL AND C++"
   ]
  },
  {
   "cell_type": "markdown",
   "id": "67a3a5b6-8c3c-409f-ac41-473a3b05cae3",
   "metadata": {},
   "source": [
    "## Some of the commonly used libraries used by Data Scientists include:\n",
    "    1. Pandas\n",
    "    2. NymPy\n",
    "    3. Keras\n",
    "    4. Matplotlib"
   ]
  },
  {
   "cell_type": "markdown",
   "id": "ae6849d9-73b3-4b3e-b057-a93d5153a4ed",
   "metadata": {
    "tags": []
   },
   "source": [
    " | Data Science Tools |\n",
    " | ----------------- |\n",
    " | Pandas |\n",
    " | Apache Hadoop |\n",
    " | Apache Spark |"
   ]
  },
  {
   "cell_type": "markdown",
   "id": "77f63f36-a88c-4b04-9e82-0e422f7c106b",
   "metadata": {},
   "source": [
    "<h3>Below are a few examples of evaluating arithmetic expressions in Python</h3>"
   ]
  },
  {
   "cell_type": "code",
   "execution_count": 1,
   "id": "b2bcddeb-124d-4006-8dcd-b071d1577db5",
   "metadata": {},
   "outputs": [
    {
     "data": {
      "text/plain": [
       "17"
      ]
     },
     "execution_count": 1,
     "metadata": {},
     "output_type": "execute_result"
    }
   ],
   "source": [
    "(3*4)+5"
   ]
  },
  {
   "cell_type": "code",
   "execution_count": 5,
   "id": "d997e29d-af1d-4ae4-b4a2-34034a20df57",
   "metadata": {},
   "outputs": [
    {
     "data": {
      "text/plain": [
       "3.3333333333333335"
      ]
     },
     "execution_count": 5,
     "metadata": {},
     "output_type": "execute_result"
    }
   ],
   "source": [
    "## This will convert 200 minutes to hours by dividing by 60\n",
    "200/60"
   ]
  },
  {
   "cell_type": "markdown",
   "id": "e736cee1-78ce-4b9d-a2e3-09a8957df58b",
   "metadata": {},
   "source": [
    "<h2> Author </h2>\n",
    "Sarah Odina"
   ]
  },
  {
   "cell_type": "code",
   "execution_count": null,
   "id": "32a9c4bb-551b-4ee0-82b9-bab93f4c00f2",
   "metadata": {},
   "outputs": [],
   "source": []
  }
 ],
 "metadata": {
  "kernelspec": {
   "display_name": "Python",
   "language": "python",
   "name": "conda-env-python-py"
  },
  "language_info": {
   "codemirror_mode": {
    "name": "ipython",
    "version": 3
   },
   "file_extension": ".py",
   "mimetype": "text/x-python",
   "name": "python",
   "nbconvert_exporter": "python",
   "pygments_lexer": "ipython3",
   "version": "3.7.12"
  }
 },
 "nbformat": 4,
 "nbformat_minor": 5
}
